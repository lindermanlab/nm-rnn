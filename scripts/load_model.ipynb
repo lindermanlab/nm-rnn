{
 "cells": [
  {
   "cell_type": "code",
   "execution_count": 1,
   "metadata": {
    "ExecuteTime": {
     "end_time": "2024-02-05T19:09:36.164543Z",
     "start_time": "2024-02-05T19:09:30.731805Z"
    }
   },
   "outputs": [
    {
     "name": "stdout",
     "output_type": "stream",
     "text": [
      "\u001B[34m\u001B[1mwandb\u001B[0m: Currently logged in as: \u001B[33mjcostacurta11\u001B[0m. Use \u001B[1m`wandb login --relogin`\u001B[0m to force relogin\r\n"
     ]
    }
   ],
   "source": [
    "import jax\n",
    "import jax.numpy as jnp\n",
    "import jax.random as jr\n",
    "import optax\n",
    "\n",
    "# import matplotlib\n",
    "# matplotlib.use('TkAgg') # need this on my machine for some reason\n",
    "import matplotlib.pyplot as plt\n",
    "import wandb\n",
    "\n",
    "!pip install git+https://github.com/lindermanlab/nm-rnn.git@main\n",
    "from nmrnn.data_generation import sample_all\n",
    "from nmrnn.util import random_nmrnn_params, log_wandb_model\n",
    "from nmrnn.fitting import fit_mwg_nm_rnn, fit_mwg_nm_only\n",
    "from nmrnn.rnn_code import batched_nm_rnn\n",
    "!wandb login"
   ]
  },
  {
   "cell_type": "code",
   "execution_count": 2,
   "metadata": {
    "collapsed": false,
    "pycharm": {
     "name": "#%%\n"
    },
    "ExecuteTime": {
     "end_time": "2024-02-05T19:09:36.723093Z",
     "start_time": "2024-02-05T19:09:36.163411Z"
    }
   },
   "outputs": [
    {
     "ename": "AttributeError",
     "evalue": "module 'wandb' has no attribute 'init'",
     "output_type": "error",
     "traceback": [
      "\u001B[0;31m---------------------------------------------------------------------------\u001B[0m",
      "\u001B[0;31mAttributeError\u001B[0m                            Traceback (most recent call last)",
      "Cell \u001B[0;32mIn[2], line 1\u001B[0m\n\u001B[0;32m----> 1\u001B[0m \u001B[43mwandb\u001B[49m\u001B[38;5;241;43m.\u001B[39;49m\u001B[43minit\u001B[49m(entity\u001B[38;5;241m=\u001B[39m\u001B[38;5;124m'\u001B[39m\u001B[38;5;124mnm-rnn\u001B[39m\u001B[38;5;124m'\u001B[39m, project\u001B[38;5;241m=\u001B[39m\u001B[38;5;124m'\u001B[39m\u001B[38;5;124mnm-rnn-mwg\u001B[39m\u001B[38;5;124m'\u001B[39m)\n\u001B[1;32m      3\u001B[0m artifact \u001B[38;5;241m=\u001B[39m wandb\u001B[38;5;241m.\u001B[39muse_artifact(\u001B[38;5;124m'\u001B[39m\u001B[38;5;124mnm-rnn/nm-rnn-mwg/nmrnn_r3_n100_m5:v1\u001B[39m\u001B[38;5;124m'\u001B[39m, \u001B[38;5;28mtype\u001B[39m\u001B[38;5;241m=\u001B[39m\u001B[38;5;124m\"\u001B[39m\u001B[38;5;124mmodel\u001B[39m\u001B[38;5;124m\"\u001B[39m)\n\u001B[1;32m      4\u001B[0m artifact_dir \u001B[38;5;241m=\u001B[39m artifact\u001B[38;5;241m.\u001B[39mdownload()\n",
      "\u001B[0;31mAttributeError\u001B[0m: module 'wandb' has no attribute 'init'"
     ]
    }
   ],
   "source": [
    "wandb.init(entity='nm-rnn', project='nm-rnn-mwg')\n",
    "\n",
    "artifact = wandb.use_artifact('nm-rnn/nm-rnn-mwg/nmrnn_r3_n100_m5:v1', type=\"model\")\n",
    "artifact_dir = artifact.download()\n",
    "# model = TWARHMM.load_wnb('twss/twarhmm_gp/twarhmm_K20_T31:v12')"
   ]
  },
  {
   "cell_type": "code",
   "execution_count": 3,
   "metadata": {
    "ExecuteTime": {
     "end_time": "2024-02-05T19:09:39.696501Z",
     "start_time": "2024-02-05T19:09:39.687518Z"
    }
   },
   "outputs": [
    {
     "name": "stdout",
     "output_type": "stream",
     "text": [
      "None\n"
     ]
    }
   ],
   "source": [
    "print(wandb.__file__)"
   ]
  },
  {
   "cell_type": "code",
   "outputs": [
    {
     "data": {
      "text/plain": "_NamespacePath(['/Users/costacurta/nm-rnn/scripts/wandb', '/Users/costacurta/nm-rnn/scripts/wandb'])"
     },
     "execution_count": 4,
     "metadata": {},
     "output_type": "execute_result"
    }
   ],
   "source": [
    "wandb.__path__"
   ],
   "metadata": {
    "collapsed": false,
    "ExecuteTime": {
     "end_time": "2024-02-05T19:09:41.527749Z",
     "start_time": "2024-02-05T19:09:41.507063Z"
    }
   },
   "execution_count": 4
  },
  {
   "cell_type": "code",
   "outputs": [],
   "source": [],
   "metadata": {
    "collapsed": false
   }
  }
 ],
 "metadata": {
  "kernelspec": {
   "display_name": "PyCharm (jax-moseq)",
   "language": "python",
   "name": "pycharm-fda32c23"
  },
  "language_info": {
   "codemirror_mode": {
    "name": "ipython",
    "version": 3
   },
   "file_extension": ".py",
   "mimetype": "text/x-python",
   "name": "python",
   "nbconvert_exporter": "python",
   "pygments_lexer": "ipython3",
   "version": "3.9.8"
  }
 },
 "nbformat": 4,
 "nbformat_minor": 4
}
