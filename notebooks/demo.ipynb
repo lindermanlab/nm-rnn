{
 "cells": [
  {
   "cell_type": "code",
   "execution_count": 2,
   "id": "519a33ba-b4a4-47e9-b743-41b17c1e983a",
   "metadata": {},
   "outputs": [
    {
     "name": "stdout",
     "output_type": "stream",
     "text": [
      "Collecting git+https://github.com/lindermanlab/nm-rnn.git@main\n",
      "  Cloning https://github.com/lindermanlab/nm-rnn.git (to revision main) to /private/var/folders/d1/fsjj9s5n5sdfzt5nrbrkq30m0000gn/T/pip-req-build-cjvjht1u\n",
      "  Running command git clone --filter=blob:none --quiet https://github.com/lindermanlab/nm-rnn.git /private/var/folders/d1/fsjj9s5n5sdfzt5nrbrkq30m0000gn/T/pip-req-build-cjvjht1u\n",
      "  Resolved https://github.com/lindermanlab/nm-rnn.git to commit 19fb6d5afaab31535689986b3fa7f752f8375a24\n",
      "  Preparing metadata (setup.py) ... \u001b[?25ldone\n",
      "\u001b[?25hBuilding wheels for collected packages: nmrnn\n",
      "  Building wheel for nmrnn (setup.py) ... \u001b[?25ldone\n",
      "\u001b[?25h  Created wheel for nmrnn: filename=nmrnn-0.0.1-py3-none-any.whl size=1354 sha256=0bddd74639ac3d29dcc814251a4eb6577b1348c3d382ad5da121aaf7216003b8\n",
      "  Stored in directory: /private/var/folders/d1/fsjj9s5n5sdfzt5nrbrkq30m0000gn/T/pip-ephem-wheel-cache-0ocnv11h/wheels/17/9b/dd/b41c3a923647ee7c1f0efb22e210537cd7d1e33075ed6a3780\n",
      "Successfully built nmrnn\n",
      "Installing collected packages: nmrnn\n",
      "  Attempting uninstall: nmrnn\n",
      "    Found existing installation: nmrnn 0.0.1\n",
      "    Uninstalling nmrnn-0.0.1:\n",
      "      Successfully uninstalled nmrnn-0.0.1\n",
      "Successfully installed nmrnn-0.0.1\n"
     ]
    }
   ],
   "source": [
    "!pip install git+https://github.com/lindermanlab/nm-rnn.git@main"
   ]
  }
 ],
 "metadata": {
  "kernelspec": {
   "display_name": "Python 3 (ipykernel)",
   "language": "python",
   "name": "python3"
  },
  "language_info": {
   "codemirror_mode": {
    "name": "ipython",
    "version": 3
   },
   "file_extension": ".py",
   "mimetype": "text/x-python",
   "name": "python",
   "nbconvert_exporter": "python",
   "pygments_lexer": "ipython3",
   "version": "3.10.9"
  }
 },
 "nbformat": 4,
 "nbformat_minor": 5
}
